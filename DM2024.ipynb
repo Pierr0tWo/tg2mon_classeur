{
 "cells": [
  {
   "cell_type": "markdown",
   "metadata": {},
   "source": [
    "# Dm 2024"
   ]
  },
  {
   "cell_type": "markdown",
   "metadata": {},
   "source": [
    "## Partie 1"
   ]
  },
  {
   "cell_type": "markdown",
   "metadata": {},
   "source": [
    "Cet exercice porte sur les structures de données linéaires  \n",
    "Une méthode simple pour gérer l'ordonnancement des processus est   d'exécuter les processus  \n",
    "en une seule fois et dans leur ordre d'arrivée.  "
   ]
  },
  {
   "cell_type": "markdown",
   "metadata": {},
   "source": [
    "#### 1 - quelle est la structure de données la plus appropriée pour mettre en œuvre le mode FIFO (First In First Out) ?  \n"
   ]
  },
  {
   "cell_type": "markdown",
   "metadata": {},
   "source": [
    "Liste"
   ]
  },
  {
   "cell_type": "markdown",
   "metadata": {},
   "source": [
    "#### 2 - On choisit de stocker les données des processus en attente à l'aide d'une liste Python lst. On dispose déjà d'une fonction retirer(lst) qui renvoie l'élément lst[0] puis le supprime de la liste lst. Écrire en Python le code d'une fonction ajouter(lst, proc) qui ajoute à la fin de la liste lst le nouveau processus en attente proc."
   ]
  },
  {
   "cell_type": "code",
   "execution_count": null,
   "metadata": {},
   "outputs": [],
   "source": [
    "def ajouter(lst, proc):\n",
    "    lst.append(proc)"
   ]
  },
  {
   "cell_type": "markdown",
   "metadata": {},
   "source": [
    "On choisit maintenant d'implémenter une file file à l'aide d'un couple(p1,p2)où p1 et p2\n",
    "sont des piles. Ainsi file[0] et file[1] sont respectivement les piles p1 et p2.\n",
    "Pour enfiler un nouvel élément elt dans file, on l'empile dans p1.\n",
    "Pour défiler file, deux cas se présentent.    \n",
    "• La pile p2 n'est pas vide : on dépile p2.  \n",
    "• La pile p2 est vide : on dépile les éléments de p1 en les empilant dans p2 jusqu'à ce\n",
    "que p1 soit vide, puis on dépile p2.\n"
   ]
  },
  {
   "cell_type": "markdown",
   "metadata": {},
   "source": [
    "#### 3- On exécute la séquence d'instructions suivante :  \n"
   ]
  },
  {
   "cell_type": "markdown",
   "metadata": {},
   "source": [
    "[PS5 || PS4 || PS3 ] p1  \n",
    "[PS1 || PS2] p2"
   ]
  },
  {
   "cell_type": "markdown",
   "metadata": {},
   "source": [
    "enfiler(file,ps6)  \n",
    "defiler(file)  \n",
    "defiler(file)  \n",
    "defiler(file)  \n",
    "enfiler(file,ps7)  "
   ]
  },
  {
   "cell_type": "markdown",
   "metadata": {},
   "source": [
    "[PS6 || PS5 || PS4 || PS7 || PS3]"
   ]
  },
  {
   "cell_type": "markdown",
   "metadata": {},
   "source": [
    "#### 4-On dispose des fonctions :  "
   ]
  },
  {
   "cell_type": "markdown",
   "metadata": {},
   "source": [
    "▪ empiler(p,elt) qui empile l'élément elt dans la pile p,  \n",
    "▪ depiler(p) qui renvoie le sommet de la pile p si p n'est pas vide et le\n",
    "supprime,  \n",
    "▪ pile_vide(p) qui renvoie True si la pile p est vide, False si la pile p n'est\n",
    "pas vide.  "
   ]
  },
  {
   "cell_type": "markdown",
   "metadata": {},
   "source": [
    "##### a. Écrire en Python une fonction est_vide(f) qui prend en argument un couple de piles f et qui renvoie True si la file représentée par f est vide, False sinon."
   ]
  },
  {
   "cell_type": "code",
   "execution_count": 4,
   "metadata": {},
   "outputs": [],
   "source": [
    "def est_vide(f):\n",
    "    '''renvoie True dans le cas ou la pile est vide et sinon False '''\n",
    "    return f==[]"
   ]
  },
  {
   "cell_type": "markdown",
   "metadata": {},
   "source": []
  },
  {
   "cell_type": "markdown",
   "metadata": {},
   "source": [
    "##### b. Écrire en Python une fonction enfiler(f,elt) qui prend en arguments un couple de piles f et un élément elt et qui ajoute elt en queue de la file représentée par f."
   ]
  },
  {
   "cell_type": "code",
   "execution_count": 9,
   "metadata": {},
   "outputs": [],
   "source": [
    "def enfiler(f,elt):\n",
    "    '''Ajoute un élément elt à la pile f'''\n",
    "    f.append(elt)\n",
    "    return f"
   ]
  },
  {
   "cell_type": "markdown",
   "metadata": {},
   "source": []
  },
  {
   "cell_type": "markdown",
   "metadata": {},
   "source": [
    "##### c. Écrire en Python une fonction defiler(f) qui prend en argument un couple de piles f et qui renvoie l'élement en tête de la file représentée par f en le retirant.\n"
   ]
  },
  {
   "cell_type": "code",
   "execution_count": 8,
   "metadata": {},
   "outputs": [],
   "source": [
    "def defiler(f):\n",
    "    '''défile et renvoie un élément, celui qui est au sommet de la pile f'''\n",
    "    return f.pop()"
   ]
  },
  {
   "cell_type": "markdown",
   "metadata": {},
   "source": []
  },
  {
   "cell_type": "markdown",
   "metadata": {},
   "source": [
    "## Partie 2"
   ]
  },
  {
   "cell_type": "markdown",
   "metadata": {},
   "source": []
  }
 ],
 "metadata": {
  "kernelspec": {
   "display_name": "Python 3",
   "language": "python",
   "name": "python3"
  },
  "language_info": {
   "codemirror_mode": {
    "name": "ipython",
    "version": 3
   },
   "file_extension": ".py",
   "mimetype": "text/x-python",
   "name": "python",
   "nbconvert_exporter": "python",
   "pygments_lexer": "ipython3",
   "version": "3.12.1"
  }
 },
 "nbformat": 4,
 "nbformat_minor": 2
}
