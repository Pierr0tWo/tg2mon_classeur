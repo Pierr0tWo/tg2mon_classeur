{
 "cells": [
  {
   "cell_type": "markdown",
   "metadata": {},
   "source": [
    "# Dm 2024"
   ]
  },
  {
   "cell_type": "markdown",
   "metadata": {},
   "source": [
    "## Partie 1"
   ]
  },
  {
   "cell_type": "code",
   "execution_count": 7,
   "metadata": {},
   "outputs": [],
   "source": [
    "\n",
    "#Partie Pile\n",
    "def pile():\n",
    "    #retourne une liste vide\n",
    "    return []\n",
    "\n",
    "# vide\n",
    "def pile_vide(p):\n",
    "    '''renvoie True si la pile est vide et False sinon'''\n",
    "    return p==[]\n",
    "\n",
    "# empiler\n",
    "def empiler(p,elt):\n",
    "    '''Ajoute l’élément x à la pile p'''\n",
    "    p.append(elt)\n",
    "\n",
    "# dépiler\n",
    "def depiler(p):\n",
    "    '''dépile et renvoie l’élément au sommet de la pile p'''\n",
    "    assert not pile_vide(p), \"Pile vide\"\n",
    "    return p.pop()\n",
    "\n",
    "#Partie File\n",
    "def file():\n",
    "    # retourne une file vide\n",
    "    return []"
   ]
  },
  {
   "cell_type": "markdown",
   "metadata": {},
   "source": [
    "Cet exercice porte sur les structures de données linéaires  \n",
    "Une méthode simple pour gérer l'ordonnancement des processus est   d'exécuter les processus  \n",
    "en une seule fois et dans leur ordre d'arrivée.  "
   ]
  },
  {
   "cell_type": "markdown",
   "metadata": {},
   "source": [
    "#### 1 - quelle est la structure de données la plus appropriée pour mettre en œuvre le mode FIFO (First In First Out) ?  \n"
   ]
  },
  {
   "cell_type": "markdown",
   "metadata": {},
   "source": [
    "File"
   ]
  },
  {
   "cell_type": "markdown",
   "metadata": {},
   "source": [
    "#### 2 - On choisit de stocker les données des processus en attente à l'aide d'une liste Python lst. On dispose déjà d'une fonction retirer(lst) qui renvoie l'élément lst[0] puis le supprime de la liste lst. Écrire en Python le code d'une fonction ajouter(lst, proc) qui ajoute à la fin de la liste lst le nouveau processus en attente proc."
   ]
  },
  {
   "cell_type": "code",
   "execution_count": 11,
   "metadata": {},
   "outputs": [],
   "source": [
    "def ajouter(lst, proc):\n",
    "    lst.append(proc)"
   ]
  },
  {
   "cell_type": "markdown",
   "metadata": {},
   "source": [
    "On choisit maintenant d'implémenter une file file à l'aide d'un couple(p1,p2)où p1 et p2\n",
    "sont des piles. Ainsi file[0] et file[1] sont respectivement les piles p1 et p2.\n",
    "Pour enfiler un nouvel élément elt dans file, on l'empile dans p1.\n",
    "Pour défiler file, deux cas se présentent.    \n",
    "• La pile p2 n'est pas vide : on dépile p2.  \n",
    "• La pile p2 est vide : on dépile les éléments de p1 en les empilant dans p2 jusqu'à ce\n",
    "que p1 soit vide, puis on dépile p2.\n"
   ]
  },
  {
   "cell_type": "markdown",
   "metadata": {},
   "source": [
    "#### 3- On exécute la séquence d'instructions suivante :  \n"
   ]
  },
  {
   "cell_type": "markdown",
   "metadata": {},
   "source": [
    "```\n",
    "    |\n",
    "    |\n",
    "ps7 | \n",
    " p1 | p2\n",
    "```\n",
    "\n"
   ]
  },
  {
   "cell_type": "markdown",
   "metadata": {},
   "source": [
    "enfiler(file,ps6)  \n",
    "defiler(file)  \n",
    "defiler(file)  \n",
    "defiler(file)  \n",
    "enfiler(file,ps7)  "
   ]
  },
  {
   "cell_type": "markdown",
   "metadata": {},
   "source": [
    "[[PS7], []] #La pile 2 n'est pas bonne"
   ]
  },
  {
   "cell_type": "markdown",
   "metadata": {},
   "source": [
    "#### 4-On dispose des fonctions :  "
   ]
  },
  {
   "cell_type": "markdown",
   "metadata": {},
   "source": [
    "▪ empiler(p,elt) qui empile l'élément elt dans la pile p,  \n",
    "▪ depiler(p) qui renvoie le sommet de la pile p si p n'est pas vide et le\n",
    "supprime,  \n",
    "▪ pile_vide(p) qui renvoie True si la pile p est vide, False si la pile p n'est\n",
    "pas vide.  "
   ]
  },
  {
   "cell_type": "markdown",
   "metadata": {},
   "source": [
    "##### a. Écrire en Python une fonction est_vide(f) qui prend en argument un couple de piles f et qui renvoie True si la file représentée par f est vide, False sinon."
   ]
  },
  {
   "cell_type": "code",
   "execution_count": 12,
   "metadata": {},
   "outputs": [],
   "source": [
    "def est_vide(f):\n",
    "    '''\n",
    "    renvoie True dans le cas ou la pile est vide et sinon False \n",
    "    '''\n",
    "    truc = pile_vide(f[0]) and pile_vide(f[1])\n",
    "    return truc # OK"
   ]
  },
  {
   "cell_type": "code",
   "execution_count": 13,
   "metadata": {},
   "outputs": [
    {
     "ename": "IndexError",
     "evalue": "list index out of range",
     "output_type": "error",
     "traceback": [
      "\u001b[1;31m---------------------------------------------------------------------------\u001b[0m",
      "\u001b[1;31mIndexError\u001b[0m                                Traceback (most recent call last)",
      "Cell \u001b[1;32mIn[13], line 1\u001b[0m\n\u001b[1;32m----> 1\u001b[0m \u001b[43mest_vide\u001b[49m\u001b[43m(\u001b[49m\u001b[43mtruc\u001b[49m\u001b[43m)\u001b[49m\n",
      "Cell \u001b[1;32mIn[12], line 5\u001b[0m, in \u001b[0;36mest_vide\u001b[1;34m(f)\u001b[0m\n\u001b[0;32m      1\u001b[0m \u001b[38;5;28;01mdef\u001b[39;00m \u001b[38;5;21mest_vide\u001b[39m(f):\n\u001b[0;32m      2\u001b[0m \u001b[38;5;250m    \u001b[39m\u001b[38;5;124;03m'''\u001b[39;00m\n\u001b[0;32m      3\u001b[0m \u001b[38;5;124;03m    renvoie True dans le cas ou la pile est vide et sinon False \u001b[39;00m\n\u001b[0;32m      4\u001b[0m \u001b[38;5;124;03m    '''\u001b[39;00m\n\u001b[1;32m----> 5\u001b[0m     truc \u001b[38;5;241m=\u001b[39m pile_vide(\u001b[43mf\u001b[49m\u001b[43m[\u001b[49m\u001b[38;5;241;43m0\u001b[39;49m\u001b[43m]\u001b[49m) \u001b[38;5;129;01mand\u001b[39;00m pile_vide(f[\u001b[38;5;241m1\u001b[39m])\n\u001b[0;32m      6\u001b[0m     \u001b[38;5;28;01mreturn\u001b[39;00m truc\n",
      "\u001b[1;31mIndexError\u001b[0m: list index out of range"
     ]
    }
   ],
   "source": [
    "est_vide(truc)"
   ]
  },
  {
   "cell_type": "markdown",
   "metadata": {},
   "source": []
  },
  {
   "cell_type": "markdown",
   "metadata": {},
   "source": [
    "##### b. Écrire en Python une fonction enfiler(f,elt) qui prend en arguments un couple de piles f et un élément elt et qui ajoute elt en queue de la file représentée par f."
   ]
  },
  {
   "cell_type": "code",
   "execution_count": 14,
   "metadata": {},
   "outputs": [],
   "source": [
    "def enfiler(f,elt):\n",
    "    '''\n",
    "    Ajoute un élément elt à la pile f\n",
    "    '''\n",
    "    empiler(f[0], elt)\n",
    "    return f"
   ]
  },
  {
   "cell_type": "code",
   "execution_count": 15,
   "metadata": {},
   "outputs": [
    {
     "ename": "IndexError",
     "evalue": "list index out of range",
     "output_type": "error",
     "traceback": [
      "\u001b[1;31m---------------------------------------------------------------------------\u001b[0m",
      "\u001b[1;31mIndexError\u001b[0m                                Traceback (most recent call last)",
      "Cell \u001b[1;32mIn[15], line 13\u001b[0m\n\u001b[0;32m     10\u001b[0m empiler(pile2, \u001b[38;5;241m6\u001b[39m)\n\u001b[0;32m     11\u001b[0m empiler(pile2, \u001b[38;5;241m5\u001b[39m)\n\u001b[1;32m---> 13\u001b[0m \u001b[43menfiler\u001b[49m\u001b[43m(\u001b[49m\u001b[43mtruc\u001b[49m\u001b[43m,\u001b[49m\u001b[43m \u001b[49m\u001b[43mpile2\u001b[49m\u001b[43m)\u001b[49m\n\u001b[0;32m     14\u001b[0m enfiler(truc, pile1)\n\u001b[0;32m     15\u001b[0m \u001b[38;5;28mprint\u001b[39m(truc)\n",
      "Cell \u001b[1;32mIn[14], line 5\u001b[0m, in \u001b[0;36menfiler\u001b[1;34m(f, elt)\u001b[0m\n\u001b[0;32m      1\u001b[0m \u001b[38;5;28;01mdef\u001b[39;00m \u001b[38;5;21menfiler\u001b[39m(f,elt):\n\u001b[0;32m      2\u001b[0m \u001b[38;5;250m    \u001b[39m\u001b[38;5;124;03m'''\u001b[39;00m\n\u001b[0;32m      3\u001b[0m \u001b[38;5;124;03m    Ajoute un élément elt à la pile f\u001b[39;00m\n\u001b[0;32m      4\u001b[0m \u001b[38;5;124;03m    '''\u001b[39;00m\n\u001b[1;32m----> 5\u001b[0m     empiler(\u001b[43mf\u001b[49m\u001b[43m[\u001b[49m\u001b[38;5;241;43m0\u001b[39;49m\u001b[43m]\u001b[49m, elt)\n\u001b[0;32m      6\u001b[0m     \u001b[38;5;28;01mreturn\u001b[39;00m f\n",
      "\u001b[1;31mIndexError\u001b[0m: list index out of range"
     ]
    }
   ],
   "source": [
    "truc = file()\n",
    "pile1 = pile()\n",
    "pile2 = pile()\n",
    "\n",
    "empiler(pile1, 2)\n",
    "empiler(pile1, 4)\n",
    "empiler(pile1, 3)\n",
    "\n",
    "empiler(pile2, 7)\n",
    "empiler(pile2, 6)\n",
    "empiler(pile2, 5)\n",
    "\n",
    "enfiler(truc, pile2)\n",
    "enfiler(truc, pile1)\n",
    "print(truc)"
   ]
  },
  {
   "cell_type": "markdown",
   "metadata": {},
   "source": []
  },
  {
   "cell_type": "markdown",
   "metadata": {},
   "source": [
    "##### c. Écrire en Python une fonction defiler(f) qui prend en argument un couple de piles f et qui renvoie l'élement en tête de la file représentée par f en le retirant.\n"
   ]
  },
  {
   "cell_type": "code",
   "execution_count": 16,
   "metadata": {},
   "outputs": [],
   "source": [
    "def defiler(f): # Ce n'est pas clair, il faut utiliser l'interface donnée.\n",
    "    '''\n",
    "    défile et renvoie un élément, celui qui est au sommet de la pile f\n",
    "    '''\n",
    "    if pile_vide(f[1]):#on regarde s'il y a une deuxieme valeur\n",
    "        while pile_vide(f[0]) == False:#tant que la premiere valeur de la fonction\n",
    "            enfiler(f[1], depiler(f[0]))#on fait la magouille pour degager la premiere valeur pour mettre la valeur de devant derriere\n",
    "    if pile_vide(f[1]) == False: #si c'est vide on renvoie la valeur\n",
    "        return depiler(f[1])"
   ]
  },
  {
   "cell_type": "code",
   "execution_count": 17,
   "metadata": {},
   "outputs": [
    {
     "ename": "IndexError",
     "evalue": "list index out of range",
     "output_type": "error",
     "traceback": [
      "\u001b[1;31m---------------------------------------------------------------------------\u001b[0m",
      "\u001b[1;31mIndexError\u001b[0m                                Traceback (most recent call last)",
      "Cell \u001b[1;32mIn[17], line 1\u001b[0m\n\u001b[1;32m----> 1\u001b[0m \u001b[43mdefiler\u001b[49m\u001b[43m(\u001b[49m\u001b[43mtruc\u001b[49m\u001b[43m)\u001b[49m\n",
      "Cell \u001b[1;32mIn[16], line 5\u001b[0m, in \u001b[0;36mdefiler\u001b[1;34m(f)\u001b[0m\n\u001b[0;32m      1\u001b[0m \u001b[38;5;28;01mdef\u001b[39;00m \u001b[38;5;21mdefiler\u001b[39m(f): \u001b[38;5;66;03m# Ce n'est pas clair, il faut utiliser l'interface donnée.\u001b[39;00m\n\u001b[0;32m      2\u001b[0m \u001b[38;5;250m    \u001b[39m\u001b[38;5;124;03m'''\u001b[39;00m\n\u001b[0;32m      3\u001b[0m \u001b[38;5;124;03m    défile et renvoie un élément, celui qui est au sommet de la pile f\u001b[39;00m\n\u001b[0;32m      4\u001b[0m \u001b[38;5;124;03m    '''\u001b[39;00m\n\u001b[1;32m----> 5\u001b[0m     \u001b[38;5;28;01mif\u001b[39;00m pile_vide(\u001b[43mf\u001b[49m\u001b[43m[\u001b[49m\u001b[38;5;241;43m1\u001b[39;49m\u001b[43m]\u001b[49m):\u001b[38;5;66;03m#on regarde s'il y a une deuxieme valeur\u001b[39;00m\n\u001b[0;32m      6\u001b[0m         \u001b[38;5;28;01mwhile\u001b[39;00m pile_vide(f[\u001b[38;5;241m0\u001b[39m]) \u001b[38;5;241m==\u001b[39m \u001b[38;5;28;01mFalse\u001b[39;00m:\u001b[38;5;66;03m#tant que la premiere valeur de la fonction\u001b[39;00m\n\u001b[0;32m      7\u001b[0m             enfiler(f[\u001b[38;5;241m1\u001b[39m], depiler(f[\u001b[38;5;241m0\u001b[39m]))\u001b[38;5;66;03m#on fait la magouille pour degager la premiere valeur pour mettre la valeur de devant derriere\u001b[39;00m\n",
      "\u001b[1;31mIndexError\u001b[0m: list index out of range"
     ]
    }
   ],
   "source": [
    "defiler(truc)"
   ]
  },
  {
   "cell_type": "code",
   "execution_count": null,
   "metadata": {},
   "outputs": [],
   "source": []
  }
 ],
 "metadata": {
  "kernelspec": {
   "display_name": "Python 3",
   "language": "python",
   "name": "python3"
  },
  "language_info": {
   "codemirror_mode": {
    "name": "ipython",
    "version": 3
   },
   "file_extension": ".py",
   "mimetype": "text/x-python",
   "name": "python",
   "nbconvert_exporter": "python",
   "pygments_lexer": "ipython3",
   "version": "3.12.5"
  }
 },
 "nbformat": 4,
 "nbformat_minor": 2
}
