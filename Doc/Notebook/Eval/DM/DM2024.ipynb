{
 "cells": [
  {
   "cell_type": "markdown",
   "metadata": {},
   "source": [
    "# Dm 2024"
   ]
  },
  {
   "cell_type": "markdown",
   "metadata": {},
   "source": [
    "## Partie 1"
   ]
  },
  {
   "cell_type": "markdown",
   "metadata": {},
   "source": [
    "Cet exercice porte sur les structures de données linéaires  \n",
    "Une méthode simple pour gérer l'ordonnancement des processus est   d'exécuter les processus  \n",
    "en une seule fois et dans leur ordre d'arrivée.  "
   ]
  },
  {
   "cell_type": "markdown",
   "metadata": {},
   "source": [
    "#### 1 - quelle est la structure de données la plus appropriée pour mettre en œuvre le mode FIFO (First In First Out) ?  \n"
   ]
  },
  {
   "cell_type": "markdown",
   "metadata": {},
   "source": [
    "Liste"
   ]
  },
  {
   "cell_type": "markdown",
   "metadata": {},
   "source": [
    "#### 2 - On choisit de stocker les données des processus en attente à l'aide d'une liste Python lst. On dispose déjà d'une fonction retirer(lst) qui renvoie l'élément lst[0] puis le supprime de la liste lst. Écrire en Python le code d'une fonction ajouter(lst, proc) qui ajoute à la fin de la liste lst le nouveau processus en attente proc."
   ]
  },
  {
   "cell_type": "code",
   "execution_count": 1,
   "metadata": {},
   "outputs": [],
   "source": [
    "def ajouter(lst, proc):\n",
    "    lst.append(proc)"
   ]
  },
  {
   "cell_type": "markdown",
   "metadata": {},
   "source": [
    "On choisit maintenant d'implémenter une file file à l'aide d'un couple(p1,p2)où p1 et p2\n",
    "sont des piles. Ainsi file[0] et file[1] sont respectivement les piles p1 et p2.\n",
    "Pour enfiler un nouvel élément elt dans file, on l'empile dans p1.\n",
    "Pour défiler file, deux cas se présentent.    \n",
    "• La pile p2 n'est pas vide : on dépile p2.  \n",
    "• La pile p2 est vide : on dépile les éléments de p1 en les empilant dans p2 jusqu'à ce\n",
    "que p1 soit vide, puis on dépile p2.\n"
   ]
  },
  {
   "cell_type": "markdown",
   "metadata": {},
   "source": [
    "#### 3- On exécute la séquence d'instructions suivante :  \n"
   ]
  },
  {
   "cell_type": "markdown",
   "metadata": {},
   "source": [
    "[PS5 || PS4 || PS3 ] p1  \n",
    "[PS1 || PS2] p2"
   ]
  },
  {
   "cell_type": "markdown",
   "metadata": {},
   "source": [
    "enfiler(file,ps6)  \n",
    "defiler(file)  \n",
    "defiler(file)  \n",
    "defiler(file)  \n",
    "enfiler(file,ps7)  "
   ]
  },
  {
   "cell_type": "markdown",
   "metadata": {},
   "source": [
    "[PS6 || PS5 || PS4 || PS7 || PS3]"
   ]
  },
  {
   "cell_type": "markdown",
   "metadata": {},
   "source": [
    "#### 4-On dispose des fonctions :  "
   ]
  },
  {
   "cell_type": "markdown",
   "metadata": {},
   "source": [
    "▪ empiler(p,elt) qui empile l'élément elt dans la pile p,  \n",
    "▪ depiler(p) qui renvoie le sommet de la pile p si p n'est pas vide et le\n",
    "supprime,  \n",
    "▪ pile_vide(p) qui renvoie True si la pile p est vide, False si la pile p n'est\n",
    "pas vide.  "
   ]
  },
  {
   "cell_type": "markdown",
   "metadata": {},
   "source": [
    "##### a. Écrire en Python une fonction est_vide(f) qui prend en argument un couple de piles f et qui renvoie True si la file représentée par f est vide, False sinon."
   ]
  },
  {
   "cell_type": "code",
   "execution_count": 2,
   "metadata": {},
   "outputs": [],
   "source": [
    "def est_vide(f):\n",
    "    '''\n",
    "    renvoie True dans le cas ou la pile est vide et sinon False \n",
    "    '''\n",
    "    return f==[]"
   ]
  },
  {
   "cell_type": "markdown",
   "metadata": {},
   "source": []
  },
  {
   "cell_type": "markdown",
   "metadata": {},
   "source": [
    "##### b. Écrire en Python une fonction enfiler(f,elt) qui prend en arguments un couple de piles f et un élément elt et qui ajoute elt en queue de la file représentée par f."
   ]
  },
  {
   "cell_type": "code",
   "execution_count": 3,
   "metadata": {},
   "outputs": [],
   "source": [
    "def enfiler(f,elt):\n",
    "    '''\n",
    "    Ajoute un élément elt à la pile f\n",
    "    '''\n",
    "    f.append(elt)\n",
    "    return f"
   ]
  },
  {
   "cell_type": "markdown",
   "metadata": {},
   "source": []
  },
  {
   "cell_type": "markdown",
   "metadata": {},
   "source": [
    "##### c. Écrire en Python une fonction defiler(f) qui prend en argument un couple de piles f et qui renvoie l'élement en tête de la file représentée par f en le retirant.\n"
   ]
  },
  {
   "cell_type": "code",
   "execution_count": 4,
   "metadata": {},
   "outputs": [],
   "source": [
    "def defiler(f):\n",
    "    '''\n",
    "    défile et renvoie un élément, celui qui est au sommet de la pile f\n",
    "    '''\n",
    "    return f.pop()"
   ]
  },
  {
   "cell_type": "markdown",
   "metadata": {},
   "source": []
  },
  {
   "cell_type": "markdown",
   "metadata": {},
   "source": [
    "## Partie 2"
   ]
  },
  {
   "cell_type": "markdown",
   "metadata": {},
   "source": [
    "Observez le code ci-contre. Il implémente  \n",
    "en POO la notion de liste chaînée : un ensemble de cellules «liées » l’une à la suivante. \n",
    "Le fonctionnement d’une telle liste n’est pas  \n",
    "loin de la logique des piles (structures abstraites de données où le dernier entré est le premier sorti).  \n",
    "D’où le nom de classe.  \n",
    "Notez le recours à deux classes : une pour  \n",
    "les cellules, une pour les « PListes ».  \n",
    "On peut dès lors disposer d’une vraie « PListe » vide :  \n",
    "il suffit qu’elle ne contienne aucune cellule. On peut donc avoir une PListe non vide contenant une cellule dont la valeur est None"
   ]
  },
  {
   "cell_type": "code",
   "execution_count": 1,
   "metadata": {},
   "outputs": [],
   "source": [
    "class Cellule:\n",
    "    def __init__(self, valeur, suivante):\n",
    "        self.valeur = valeur\n",
    "        self.suivante = suivante\n",
    "    def __repr__(self):\n",
    "        return str(self.valeur)\n",
    "class PListe:\n",
    "    def __init__(self):\n",
    "        \"\"\"Crée une liste VIDE\"\"\"\n",
    "        self.tete = None\n",
    "    def insere(self, valeur):\n",
    "        \"\"\"Insère une valeur (en tant qu'instance de\n",
    "            la classe Cellule) EN TÊTE de liste\"\"\"\n",
    "        self.tete = Cellule(valeur, self.tete)\n",
    "    def est_vide(self):\n",
    "        return self.tete is None\n",
    "    def longueur(self):\n",
    "        if self.est_vide():\n",
    "            return 0\n",
    "        else:\n",
    "            cellule = self.tete\n",
    "            long = 1\n",
    "            while cellule.suivante is not None:\n",
    "                long += 1\n",
    "                cellule = cellule.suivante\n",
    "            return long\n",
    "        \n",
    "        \n",
    "    def ieme_element(self, i):   \n",
    "        assert 1<=i and i<=self.longueur(), \"aucune valeur n'est associé à cette position\"    \n",
    "        valeurcellule = self.tete\n",
    "        for loop in range(i-1):\n",
    "            valeurcellule = valeurcellule.suivante\n",
    "        return valeurcellule.valeur\n",
    "    \n",
    "    def depile(self):\n",
    "        '''dépile et renvoie l’élément au sommet de la liste p'''\n",
    "        depile = Cellule(self.tete, self.tete.suivante)\n",
    "        self.tete = self.tete.suivante\n",
    "        return depile\n",
    "    \n",
    "    def affichage(self):\n",
    "        for loop in range(self.longueur()):\n",
    "            print(f\"|{self.longueur() - loop}:{str(self.ieme_element(self.longueur() - loop)).rjust(10)}|\")  \n",
    "\n",
    "    def neg(self):\n",
    "        self.tete = Cellule(int(f\"-{self.ieme_element(1)}\"),self.tete.suivante)\n",
    "        \n",
    "    def plus(self):\n",
    "            assert self.longueur() >- 2, \"la taille de la pile n'est pas bonne\"\n",
    "            ajout = self.tete.valeur + self.tete.suivante.valeur\n",
    "            self.depile()\n",
    "            self.depile()\n",
    "            self.insere(ajout)\n",
    "\n",
    "    def moins(self):\n",
    "        assert self.longueur() >- 2, \"pile pas assez grande\"\n",
    "        soustrait = self.tete.suivante.valeur + self.tete.valeur\n",
    "        self.depile()\n",
    "        self.depile()\n",
    "        self.insere(soustrait)"
   ]
  },
  {
   "cell_type": "markdown",
   "metadata": {},
   "source": [
    "1. D’après le code ci-contre, donner l’instruction permettant de créer une liste vide nommée pliv :\n"
   ]
  },
  {
   "cell_type": "code",
   "execution_count": 6,
   "metadata": {},
   "outputs": [],
   "source": [
    "pliv = PListe()"
   ]
  },
  {
   "cell_type": "markdown",
   "metadata": {},
   "source": [
    "2. Peut-on créer une liste ayant d’emblée une valeur ? Si oui, comment ?\n"
   ]
  },
  {
   "cell_type": "code",
   "execution_count": 7,
   "metadata": {},
   "outputs": [],
   "source": [
    "pliv = PListe()\n",
    "pliv.tete = \"insertion\"\n"
   ]
  },
  {
   "cell_type": "markdown",
   "metadata": {},
   "source": [
    "3. Donner les instructions pour créer la listechaînée représentée ci-dessous  \n",
    "  \n",
    "     |pli| --> |10| --> |20| --> |30| --> |X|"
   ]
  },
  {
   "cell_type": "code",
   "execution_count": 2,
   "metadata": {},
   "outputs": [],
   "source": [
    "pli = PListe()\n",
    "pli.insere(30)\n",
    "pli.insere(20)\n",
    "pli.insere(10)"
   ]
  },
  {
   "cell_type": "markdown",
   "metadata": {},
   "source": [
    "4. En vous inspirant du code fourni, définir une méthode nommée ieme_element, qui viendra enrichir la classe PListe,  \n",
    "qui prendra un paramètre entier i et renverra la valeur de la cellule en ième position  \n",
    "à partir de la tête de la liste (les positions seront comptées à partir de 1).   \n",
    "Vous prendrez la précaution de vérifier à l’aide d’une assertion que cette ième position existe bien!"
   ]
  },
  {
   "cell_type": "code",
   "execution_count": null,
   "metadata": {},
   "outputs": [],
   "source": [
    "def ieme_element(self, i):\n",
    "    assert 1 <= i and i <= self.longueur(), \"aucune valeur n'est associé à cette position\"  \n",
    "    valeurcellule = self.tete     \n",
    "    for loop in range(i-1):\n",
    "        valeurcellule = valeurcellule.suivante\n",
    "    return valeurcellule.valeur"
   ]
  },
  {
   "cell_type": "code",
   "execution_count": 3,
   "metadata": {},
   "outputs": [
    {
     "data": {
      "text/plain": [
       "20"
      ]
     },
     "execution_count": 3,
     "metadata": {},
     "output_type": "execute_result"
    }
   ],
   "source": [
    "pli.ieme_element(2)"
   ]
  },
  {
   "cell_type": "markdown",
   "metadata": {},
   "source": [
    "5. Donner ci-dessous le code le la méthode depile, qui viendra elle aussi enrichir la classe PListe.   \n",
    "Elle dépilera l’élément de tête, c’est-à-dire qu’elle supprimera la cellule de tête et renverra sa valeur."
   ]
  },
  {
   "cell_type": "code",
   "execution_count": null,
   "metadata": {},
   "outputs": [],
   "source": [
    "def depile(self):\n",
    "    '''dépile et renvoie l’élément au sommet de la liste p'''\n",
    "    depile = Cellule(self.tete, self.tete.suivante)\n",
    "    self.tete = self.tete.suivante\n",
    "    return depile"
   ]
  },
  {
   "cell_type": "markdown",
   "metadata": {},
   "source": [
    "On supposera désormais que, dans la suite, les PListe ne contiendront que des valeurs numériques.  \n",
    "Les calculatrices HP ont longtemps fait appel à la Notation Polonaise Inverse (RPN en anglais, pour Reverse  \n",
    "Polish Notation) : l’expression « 3 × (10 − 6) » peut s’écrire « 10 6 − 3 × » en RPN.  \n",
    "Concrètement, chaque nombre rencontré est en fait empilé dans une pile de travail. À l’écran, elle sera  \n",
    "représentée à l’envers : le haut de la pile est en bas, les entrées et sorties se font donc par le bas!  \n",
    "C’est à la base une pile abstraite, aux fonctionnalités étendues pour permettre la réalisation de calculs, et  \n",
    "dotée de fonctionnalités autorisant à modifier son organisation interne (on peut par exemple échanger la  \n",
    "position de valeurs dans la pile). Les opérations arithmétiques agissent sur le sommet de la pile (opérations  \n",
    "unaires, comme le changement de signe ou la racine carrée), ou sur les deux premiers niveaux de la pile  \n",
    "(opérations binaires : attention à l’ordre, le niveau le plus élevé intervient en 1re position dans la réalisation  \n",
    "du calcul).  \n",
    "  \n",
    "Sur une calculatrice RPN, le calcul précédent se réalise ainsi :  [3]  [E n t e r]  [1]  [0]  [E n t e r]  [6]  [E n t e r]  [-]  [×] .  \n",
    "L’affichage de la machine évolue comme suit (notez les numéros d’ordre dans la pile, à gauche) :  "
   ]
  },
  {
   "cell_type": "markdown",
   "metadata": {},
   "source": [
    "|[3][Enter]|[10][Enter]|[6][Enter]|[-]      |[x]        |\n",
    "|---      |:-:        |:-:       |:-:       |--:        |\n",
    "| 4:      |  4:       | 4:       |  4:      |  4:       |\n",
    "| 3:      |  3:       | 3:   3   |  3:      |  3:       |\n",
    "| 2:      |  2:   3   | 2:  10   |  2:  3   |  2:       |\n",
    "| 1:    3 |  1:   10  | 1: 6     |  1:  4   |  1:    12 |\n",
    "\n",
    "Notez que le calcul « consomme » le (ou les 2) premier(s) niveau(x) de la pile (ils sont donc retirés de  \n",
    "la pile), et que le résultat est placé à son sommet.  "
   ]
  },
  {
   "cell_type": "markdown",
   "metadata": {},
   "source": [
    "6. Écrire une méthode affichage qui viendra enrichir la classe PListe.  \n",
    "Elle n’aura aucun paramètre et son appel provoquera l’affichage de la pile tel qu’encadré ci-dessus.  \n",
    "Indication : utilisez les méthodes de chaînes de caractères ljust (left justify) et rjust (right justify) :  \n",
    "'1'.ljust(2) + ':' donnera la chaîne '1 :' (notez l’espace ajouté si nécessaire pour avoir exactement 2 caractères avant le « : »)  \n",
    "et si valeur = 1.234, str(valeur).rjust(10) donnera la chaîne\n",
    "'---- 1.234' (une chaîne de 10 caractères précisément, avec autant d’espaces en tête que nécessaire)."
   ]
  },
  {
   "cell_type": "code",
   "execution_count": 2,
   "metadata": {},
   "outputs": [],
   "source": [
    "def affichage(self):\n",
    "    for loop in range(self.longueur()):\n",
    "        print(f\"|{self.longueur() - loop}:{str(self.ieme_element(self.longueur() - loop)).rjust(10)}|\")    \n"
   ]
  },
  {
   "cell_type": "code",
   "execution_count": 3,
   "metadata": {},
   "outputs": [
    {
     "name": "stdout",
     "output_type": "stream",
     "text": [
      "|3:        30|\n",
      "|2:        20|\n",
      "|1:        10|\n"
     ]
    }
   ],
   "source": [
    "pli.affichage()"
   ]
  },
  {
   "cell_type": "markdown",
   "metadata": {},
   "source": [
    "7. Implémenter une méthode neg, qui change le signe de la valeur située en tête de pile (aucun paramètre,\n",
    "aucune valeur de retour)."
   ]
  },
  {
   "cell_type": "code",
   "execution_count": null,
   "metadata": {},
   "outputs": [],
   "source": [
    "def neg(self):\n",
    "    self.tete = Cellule(int(f\"-{self.ieme_element(1)}\"),self.tete.suivante)"
   ]
  },
  {
   "cell_type": "markdown",
   "metadata": {},
   "source": [
    "8. Implémenter une méthode plus, qui ajoute les éléments présents sur les deux premiers niveaux de la\n",
    "pile et place le résultat sur le sommet de la pile   \n",
    "(aucun paramètre, aucune valeur de retour).  \n",
    "Important : utiliser une assertion pour gérer le cas où la pile n’a pas une taille adaptée."
   ]
  },
  {
   "cell_type": "code",
   "execution_count": null,
   "metadata": {},
   "outputs": [],
   "source": [
    "def plus(self):\n",
    "        assert self.longueur() >- 2, \"la taille de la pile n'est pas bonne\"\n",
    "        ajout = self.tete.valeur + self.tete.suivante.valeur\n",
    "        self.depile()\n",
    "        self.depile()\n",
    "        self.insere(ajout)"
   ]
  },
  {
   "cell_type": "markdown",
   "metadata": {},
   "source": [
    "9. Implémenter une méthode moins, qui soustrait les éléments présents sur les deux premiers niveaux de\n",
    "la pile   \n",
    "(attention : niveau 2 moins niveau 1) et place le résultat sur le sommet de la pile.  \n",
    "Important : utiliser une assertion pour gérer le cas où la pile n’a pas une taille adaptée."
   ]
  },
  {
   "cell_type": "code",
   "execution_count": null,
   "metadata": {},
   "outputs": [],
   "source": [
    "def moins(self):\n",
    "    assert self.longueur() >- 2, \"pile pas assez grande\"\n",
    "    soustrait = self.tete.suivante.valeur + self.tete.valeur\n",
    "    self.depile()\n",
    "    self.depile()\n",
    "    self.insere(soustrait)"
   ]
  },
  {
   "cell_type": "markdown",
   "metadata": {},
   "source": [
    "10. Dessiner l’affichage provoqué par la succession d’instructions suivantes  \n",
    "(vous pourrez imiter la présentation de la page 2, ou les affichages sont l’un à côté de l’autre; inutile de les encadrer!).  \n",
    "Vous prendrez soin de préciser clairement les numéros des lignes correspondant aux affichages."
   ]
  },
  {
   "cell_type": "code",
   "execution_count": 2,
   "metadata": {},
   "outputs": [
    {
     "name": "stdout",
     "output_type": "stream",
     "text": [
      "|1:         5|\n",
      "|2:         5|\n",
      "|1:         2|\n",
      "|3:         5|\n",
      "|2:         2|\n",
      "|1:         7|\n",
      "|3:         5|\n",
      "|2:         2|\n",
      "|1:        -7|\n",
      "|2:         5|\n",
      "|1:        -5|\n",
      "|1:         0|\n"
     ]
    }
   ],
   "source": [
    "rpl = PListe()\n",
    "rpl.insere(5)\n",
    "rpl.affichage()\n",
    "rpl.insere(2)\n",
    "rpl.affichage()\n",
    "rpl.insere(7)\n",
    "rpl.affichage()\n",
    "rpl.neg()\n",
    "rpl.affichage()\n",
    "rpl.plus()\n",
    "rpl.affichage()\n",
    "rpl.moins()\n",
    "rpl.affichage()"
   ]
  },
  {
   "cell_type": "markdown",
   "metadata": {},
   "source": []
  }
 ],
 "metadata": {
  "kernelspec": {
   "display_name": "Python 3",
   "language": "python",
   "name": "python3"
  },
  "language_info": {
   "codemirror_mode": {
    "name": "ipython",
    "version": 3
   },
   "file_extension": ".py",
   "mimetype": "text/x-python",
   "name": "python",
   "nbconvert_exporter": "python",
   "pygments_lexer": "ipython3",
   "version": "3.12.1"
  }
 },
 "nbformat": 4,
 "nbformat_minor": 2
}
