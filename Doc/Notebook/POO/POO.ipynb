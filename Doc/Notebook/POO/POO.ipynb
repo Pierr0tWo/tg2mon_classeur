{
 "cells": [
  {
   "cell_type": "code",
   "execution_count": 1,
   "metadata": {},
   "outputs": [],
   "source": [
    "class Personnage:\n",
    "  pass\n",
    "gollum = Personnage()\n",
    "bilbo = Personnage()\n",
    "\n",
    "class Personnage:\n",
    "  pass\n",
    "gollum=Personnage()\n",
    "gollum.vie=20\n",
    "bilbo=Personnage()\n",
    "bilbo.vie=20\n",
    "\n",
    "class Personnage:\n",
    "  def __init__(self):\n",
    "    self.vie=20\n",
    "gollum=Personnage()\n",
    "bilbo=Personnage()\n",
    "\n",
    "class Personnage:\n",
    "  def __init__(self,nbreDeVie):\n",
    "    self.vie=nbreDeVie\n",
    "gollum=Personnage(20)\n",
    "bilbo=Personnage(15)\n",
    "\n",
    "class Personnage:\n",
    "  def __init__(self, nbreDeVie):\n",
    "    self.vie=nbreDeVie\n",
    "  def donneEtat (self):\n",
    "    return self.vie\n",
    "  def perdVie (self):\n",
    "    self.vie=self.vie-1\n",
    "gollum = Personnage(20)\n",
    "bilbo = Personnage(15)"
   ]
  },
  {
   "cell_type": "code",
   "execution_count": 3,
   "metadata": {},
   "outputs": [],
   "source": [
    "gollum.donneEtat()"
   ]
  },
  {
   "cell_type": "code",
   "execution_count": 4,
   "metadata": {},
   "outputs": [],
   "source": [
    "bilbo.donneEtat()"
   ]
  },
  {
   "cell_type": "code",
   "execution_count": 5,
   "metadata": {},
   "outputs": [],
   "source": [
    "gollum.perdVie()"
   ]
  },
  {
   "cell_type": "code",
   "execution_count": 7,
   "metadata": {},
   "outputs": [],
   "source": [
    "gollum.donneEtat()"
   ]
  },
  {
   "cell_type": "code",
   "execution_count": 10,
   "metadata": {},
   "outputs": [
    {
     "data": {
      "text/plain": [
       "19"
      ]
     },
     "execution_count": 10,
     "metadata": {},
     "output_type": "execute_result"
    }
   ],
   "source": []
  },
  {
   "cell_type": "code",
   "execution_count": 11,
   "metadata": {},
   "outputs": [
    {
     "data": {
      "text/plain": [
       "14"
      ]
     },
     "execution_count": 11,
     "metadata": {},
     "output_type": "execute_result"
    }
   ],
   "source": []
  },
  {
   "cell_type": "code",
   "execution_count": 12,
   "metadata": {},
   "outputs": [],
   "source": []
  },
  {
   "cell_type": "code",
   "execution_count": 13,
   "metadata": {},
   "outputs": [
    {
     "data": {
      "text/plain": [
       "18"
      ]
     },
     "execution_count": 13,
     "metadata": {},
     "output_type": "execute_result"
    }
   ],
   "source": []
  }
 ],
 "metadata": {
  "kernelspec": {
   "display_name": "Python 3",
   "language": "python",
   "name": "python3"
  },
  "language_info": {
   "codemirror_mode": {
    "name": "ipython",
    "version": 3
   },
   "file_extension": ".py",
   "mimetype": "text/x-python",
   "name": "python",
   "nbconvert_exporter": "python",
   "pygments_lexer": "ipython3",
   "version": "3.12.1"
  }
 },
 "nbformat": 4,
 "nbformat_minor": 2
}
