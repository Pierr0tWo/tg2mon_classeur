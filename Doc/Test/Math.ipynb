{
 "cells": [
  {
   "cell_type": "code",
   "execution_count": 2,
   "metadata": {},
   "outputs": [],
   "source": [
    "def programme(M):\n",
    "    n = 0\n",
    "    u = 2000\n",
    "    while u < M:\n",
    "        n += 1\n",
    "        u = 1.03*u + 150\n",
    "    return(n)"
   ]
  },
  {
   "cell_type": "code",
   "execution_count": null,
   "metadata": {},
   "outputs": [],
   "source": [
    "programme()"
   ]
  },
  {
   "cell_type": "code",
   "execution_count": null,
   "metadata": {},
   "outputs": [],
   "source": [
    "def cardinal2(a):\n",
    "    p2=[]\n",
    "    lt=[]\n",
    "    card = 0\n",
    "    for i in range(len(a)):\n",
    "        for j in range(i+1, len(a)):\n",
    "            lt.append(a[i])\n",
    "            lt.append(a[j])\n",
    "            p2.append([lt])\n",
    "            card += 1\n",
    "            lt = []\n",
    "    print(p2)\n",
    "    print(card)"
   ]
  },
  {
   "cell_type": "code",
   "execution_count": 15,
   "metadata": {},
   "outputs": [],
   "source": [
    "def cardinal3(a):\n",
    "    p2=[]\n",
    "    lt=[]\n",
    "    card = 0\n",
    "    for i in range(len(a)):\n",
    "        for g in range(i+1, len(a)):\n",
    "            for j in range(g+1, len(a)):\n",
    "                lt.append(a[i])\n",
    "                lt.append(a[j])\n",
    "                lt.append(a[g])\n",
    "                p2.append([lt])\n",
    "                card += 1\n",
    "                lt = []\n",
    "    print(p2)\n",
    "    print(card)"
   ]
  },
  {
   "cell_type": "code",
   "execution_count": 16,
   "metadata": {},
   "outputs": [
    {
     "name": "stdout",
     "output_type": "stream",
     "text": [
      "[[[1, 5, 3]], [[1, 7, 3]], [[1, 9, 3]], [[1, 11, 3]], [[1, 13, 3]], [[1, 7, 5]], [[1, 9, 5]], [[1, 11, 5]], [[1, 13, 5]], [[1, 9, 7]], [[1, 11, 7]], [[1, 13, 7]], [[1, 11, 9]], [[1, 13, 9]], [[1, 13, 11]], [[3, 7, 5]], [[3, 9, 5]], [[3, 11, 5]], [[3, 13, 5]], [[3, 9, 7]], [[3, 11, 7]], [[3, 13, 7]], [[3, 11, 9]], [[3, 13, 9]], [[3, 13, 11]], [[5, 9, 7]], [[5, 11, 7]], [[5, 13, 7]], [[5, 11, 9]], [[5, 13, 9]], [[5, 13, 11]], [[7, 11, 9]], [[7, 13, 9]], [[7, 13, 11]], [[9, 13, 11]]]\n",
      "35\n"
     ]
    }
   ],
   "source": [
    "cardinal3([1,3,5,7,9,11,13])"
   ]
  },
  {
   "cell_type": "code",
   "execution_count": null,
   "metadata": {},
   "outputs": [],
   "source": []
  }
 ],
 "metadata": {
  "kernelspec": {
   "display_name": "Python 3",
   "language": "python",
   "name": "python3"
  },
  "language_info": {
   "codemirror_mode": {
    "name": "ipython",
    "version": 3
   },
   "file_extension": ".py",
   "mimetype": "text/x-python",
   "name": "python",
   "nbconvert_exporter": "python",
   "pygments_lexer": "ipython3",
   "version": "3.12.1"
  }
 },
 "nbformat": 4,
 "nbformat_minor": 2
}
