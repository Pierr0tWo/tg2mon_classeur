{
 "cells": [
  {
   "cell_type": "code",
   "execution_count": 2,
   "metadata": {},
   "outputs": [],
   "source": [
    "def programme(M):\n",
    "    n = 0\n",
    "    u = 2000\n",
    "    while u < M:\n",
    "        n += 1\n",
    "        u = 1.03*u + 150\n",
    "    return(n)"
   ]
  },
  {
   "cell_type": "code",
   "execution_count": null,
   "metadata": {},
   "outputs": [],
   "source": [
    "programme()"
   ]
  },
  {
   "cell_type": "code",
   "execution_count": 11,
   "metadata": {},
   "outputs": [],
   "source": [
    "def cardinal(a):\n",
    "    p2=[]\n",
    "    lt=[]\n",
    "    card = 0\n",
    "    for i in range(len(a)):\n",
    "        for j in range(i+1, len(a)):\n",
    "            lt.append(a[i])\n",
    "            lt.append(a[j])\n",
    "            p2.append([lt])\n",
    "            card += 1\n",
    "            lt = []\n",
    "    print(p2)\n",
    "    print(card)"
   ]
  },
  {
   "cell_type": "code",
   "execution_count": 12,
   "metadata": {},
   "outputs": [
    {
     "name": "stdout",
     "output_type": "stream",
     "text": [
      "[[[1, 3]], [[1, 5]], [[1, 7]], [[1, 9]], [[1, 11]], [[1, 13]], [[3, 5]], [[3, 7]], [[3, 9]], [[3, 11]], [[3, 13]], [[5, 7]], [[5, 9]], [[5, 11]], [[5, 13]], [[7, 9]], [[7, 11]], [[7, 13]], [[9, 11]], [[9, 13]], [[11, 13]]]\n",
      "21\n"
     ]
    }
   ],
   "source": [
    "cardinal([1,3,5,7,9,11,13])"
   ]
  },
  {
   "cell_type": "code",
   "execution_count": null,
   "metadata": {},
   "outputs": [],
   "source": []
  }
 ],
 "metadata": {
  "kernelspec": {
   "display_name": "Python 3",
   "language": "python",
   "name": "python3"
  },
  "language_info": {
   "codemirror_mode": {
    "name": "ipython",
    "version": 3
   },
   "file_extension": ".py",
   "mimetype": "text/x-python",
   "name": "python",
   "nbconvert_exporter": "python",
   "pygments_lexer": "ipython3",
   "version": "3.12.1"
  }
 },
 "nbformat": 4,
 "nbformat_minor": 2
}
