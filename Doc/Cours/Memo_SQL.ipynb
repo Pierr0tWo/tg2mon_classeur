{
 "cells": [
  {
   "cell_type": "markdown",
   "metadata": {},
   "source": [
    "# Memo SQL"
   ]
  },
  {
   "cell_type": "markdown",
   "metadata": {},
   "source": [
    "## Info "
   ]
  },
  {
   "cell_type": "markdown",
   "metadata": {},
   "source": [
    "Le SQL est un moyen de créer des bases de données, de les modifier et rechercher dedans.  \n",
    "  \n",
    "Le SQL possede plusieurs commande qui peuvent se séparer en 3 catégorie : \n",
    "- La creation de table\n",
    "- la recherche d'information dans une table\n",
    "- la modification dans une table.  \n",
    "  \n",
    "Présent ci dessous"
   ]
  },
  {
   "cell_type": "markdown",
   "metadata": {},
   "source": [
    "## Creation de la table\n",
    "| Mots clef | Definition | Parametre |\n",
    "|:-----------|:------------:|------------:|\n",
    "| CREATE TABLE | Permet de crée une TABLE SQL dans la base de donnée | |\n",
    "| SELECT | Selectionner, dans une TABLE SQL, des atributs   | |\n",
    "| FROM | Permet de selectionner TABLE SQL    | |\n",
    "| INSERT INTO | Permet d'inserer une donnée dans la TABLE SQL selectionner  | |\n",
    "| VALUES | est un argument qui peux aller avec INSERT INTO qui permet de saisir une valeur a ajouter à la base de donnée  | |"
   ]
  },
  {
   "cell_type": "markdown",
   "metadata": {},
   "source": [
    "## Recherche d'info\n",
    "| Mots clef | Definition | Parametre |\n",
    "|:-----------|:------------:|------------:|\n",
    "| WHERE | Permet d'afficher seulement un type d'attributs par exemple \"WHERE auteurs\" affiche que les auteurs d'une base de donnée comportant des livres et il peut prendre en détail \"auteur = Verne\"   | MAX (renvoie la valeur la plus élevé), SUM (renvoie l'addition de toute les valeurs),  UPPER (permet de mettre en MAJ la chaine de caractere),  LOWER (permet de mettre en minuscule la chaine de caractere) |\n",
    "| INNER JOIN [table] ON [table2] | Permet de relier plusieurs TABLE entre elles | |\n",
    "| DISTINCT | Permet de retirer les valeurs en double | |\n",
    "| AS | Permet de renommer un attribut (sans le changer juste un raccourci) | |\n",
    "| LENGHT | Permet de renvoyer la longueur d'une chaine de caractere | |\n",
    "| COUNT | Permet de compter le nombre de lignes dans une table | |\n",
    "| AVG | Permet de calculer la moyenne | |\n",
    "| MEDIAN | Permet de calculer la mediane | |\n",
    "| MIN | Permet de renvoyer la valeur maximale d'une table | |\n",
    "| MAX | Permet de renvoyer la valuer minimale d'une table | |\n",
    "| HAVING | Permet d'ajouter des restrictions à la recherche| |\n",
    "| | | |\n",
    "| GROUP BY | Permet de renvoyer la valeur maximale d'une table | |\n",
    "| ORDER BY | Permet de renvoyer la valuer minimale d'une table | |\n",
    "| LIKE | Permet créé un alias un attribut (sans le changer juste un raccourci) | |\n",
    "| LIMIT | Permet créé une limite a la recherche (genre LIMIT 10 donne les 10 premieres valeurs) | |"
   ]
  },
  {
   "cell_type": "markdown",
   "metadata": {},
   "source": [
    "## modification de la table\n",
    "| Mots clef | Definition | Parametre |\n",
    "|:-----------|:------------:|------------:|\n",
    "| \"deux trait qui pointe vers le haut\" | permet de faire de la concaténation de deux chaines de caractere (ou sous chaine) | |\n",
    "| SUBSTR | Permet de relever une chaine (ou sous chaine) de caractere  | |\n",
    "| UPPER | Permet de mettre toute la chaine (ou sous chaine) de caractere en MAJ | |\n",
    "| LOWER | Permet de mettre toute la chaine (ou sous chaine) de caractere en MIN | |\n",
    "| ROUND | Permet d'arrondir une valeur (par exemple 4,6 en 5) | |\n",
    "| REPLACE| Permet de remplacer un attribut par une autre valeur | |"
   ]
  },
  {
   "cell_type": "markdown",
   "metadata": {},
   "source": []
  }
 ],
 "metadata": {
  "kernelspec": {
   "display_name": "Python 3",
   "language": "python",
   "name": "python3"
  },
  "language_info": {
   "name": "python",
   "version": "3.12.1"
  }
 },
 "nbformat": 4,
 "nbformat_minor": 2
}
